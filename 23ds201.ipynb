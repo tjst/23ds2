{
 "cells": [
  {
   "cell_type": "markdown",
   "metadata": {},
   "source": [
    "<hr style=\"border-top: 3px double #8c8b8b;\"/>\n",
    "<br/>\n",
    "<center><font size=7 color=\"green\">データサイエンスII   第1回  実習</font><br/>\n",
    "\n",
    "2023.4.11\n",
    "</center>\n",
    "<hr style=\"border-top: 3px double #8c8b8b;\"/>\n"
   ]
  },
  {
   "attachments": {},
   "cell_type": "markdown",
   "metadata": {},
   "source": [
    "<h2>最初に以下を実行</h2>\n",
    "\n",
    "+ インストールできていればすぐ終わる。\n",
    "+ できていない場合は、インストールに入るが数分程度で終わる."
   ]
  },
  {
   "cell_type": "code",
   "execution_count": null,
   "metadata": {},
   "outputs": [],
   "source": [
    "!conda install -c conda-forge -y numpy plotly pandas scipy seaborn "
   ]
  },
  {
   "attachments": {},
   "cell_type": "markdown",
   "metadata": {},
   "source": [
    "+  次から始まるメッセージが出ることがあるが、これは気にしなっくて良い. \n",
    "    ~~~\n",
    "    ==> WARNING: A newer version of conda exists. <==\n",
    "    ~~~\n",
    "+ 最後につぎのようになればOK\n",
    "    ~~~\n",
    "    # All requested packages already installed.  \n",
    "    ~~~\n",
    "  + 一部をインストールするような場合は次で終わればOK\n",
    "    ~~~\n",
    "    Executing transaction: done\n",
    "    ~~~\n"
   ]
  },
  {
   "attachments": {},
   "cell_type": "markdown",
   "metadata": {},
   "source": [
    "+ <font color=\"green\">問題なく終わったら、上のセルをクリックし、行頭に半角の`#`を入力しコメントアウトしておく.　こうしておかないと最初から連続的に実行するときに毎回実行されてしまい余分な時間を取られてしまいます。</font>"
   ]
  },
  {
   "attachments": {},
   "cell_type": "markdown",
   "metadata": {},
   "source": [
    "<hr style=\"border-top: 3px double #8c8b8b;\"/>\n",
    "最初なので、ゆっくり進めます。わからないことがあれば、すぐに聞いてください。\n",
    "また、すでに習得済みの項目は早足で進めてください。\n",
    "\n",
    "<font size=4>目次</font>\n",
    "1. jupyterlab 入門\n",
    "2. python 復習\n",
    "3. データの numpy による表現\n",
    "4. データ可視化\n",
    "5. 課題"
   ]
  },
  {
   "attachments": {},
   "cell_type": "markdown",
   "metadata": {
    "jp-MarkdownHeadingCollapsed": true
   },
   "source": [
    "<hr style=\"border-top: 3px double #8c8b8b;\"/>\n",
    "\n",
    "# 1. jupyterlab 入門\n"
   ]
  },
  {
   "attachments": {},
   "cell_type": "markdown",
   "metadata": {},
   "source": [
    "+ 以下の練習がなかなか進まない人は次を参考にしてください.\n",
    "  + 初めての人向けの解説動画(約6分) :\n",
    "<a href=\"https://ritsumei.ap.panopto.com/Panopto/Pages/Viewer.aspx?id=9eb04194-1e8d-467f-908f-ac44007590ce\">jupyterlab 入門</a>\n",
    "  + 2022年度データサイエンスI 講義資料\n",
    "<a href=\"https://ritsumei365-my.sharepoint.com/:b:/g/personal/tjst_se_ritsumei_ac_jp/Ec5NP4SHWz9OrTjLnr5lkn0B6pava4ydzeYiQwBb7D8org?e=5WoQGR\">「Jupyter 入門」</a> \n",
    "   "
   ]
  },
  {
   "attachments": {},
   "cell_type": "markdown",
   "metadata": {},
   "source": [
    "## 1.1 基本操作の練習\n"
   ]
  },
  {
   "cell_type": "markdown",
   "metadata": {},
   "source": [
    "<img src=\"https://ac-net.org/tjst/lct/23/23ds2/img/jupyterlab_menu.png\">"
   ]
  },
  {
   "cell_type": "markdown",
   "metadata": {},
   "source": [
    "+ ファイルのアップロード.  ファイル一覧内タブの、上矢印アイコン\n",
    "   \n",
    "+ ファイルのダウンロード：　ファイル一覧で、ファイルを右クリックし、ダウンロードを選択"
   ]
  },
  {
   "cell_type": "markdown",
   "metadata": {},
   "source": [
    "  + <font color=\"red\">練習1.1</font> このファイルをダウンロードし、名称を `23ds201_test.ipynb`とせよ."
   ]
  },
  {
   "cell_type": "markdown",
   "metadata": {},
   "source": [
    "## 1.2 コードセルの操作\n",
    "+ 作成: キー`b`を押すと現在のセルの下にできる. ( メニュー２番目の＋印 )\n",
    "\n",
    "+ 入力: セルを選択. カーソルが出ていなければ改行キーをおすか、入力欄をクリック.\n",
    "  \n",
    "+ 実行: シフト+改行、(メニュー６番目の右三角)\n",
    "\n",
    "+ セルの表示・非表示  セル左の青い縦線をクリックして切替"
   ]
  },
  {
   "attachments": {},
   "cell_type": "markdown",
   "metadata": {},
   "source": [
    "+    <font color=\"red\">練習1.2. </font>\n",
    "        1. このセルを選択 \n",
    "           + 方法: このセルの上をクリックすると左に青い縦線が出る<p>\n",
    "           \n",
    "        2. このセルの下にセルを作成\n",
    "           + 方法: キー`b`( bellow の頭字)を押すか、メニューの`+`をクリック<p>\n",
    "        3. 作成されたセルに入力できるようにする.\n",
    "            + 方法: 改行キーを押す、または入力欄をクリック ( カーソルが出現する)<p>\n",
    "        4. カーソルがあることを確認してから、`2**100` を入力<p>\n",
    "        5. 実行\n",
    "            + 方法: シフト + 改行、またはメニューの実行アイコン(右向三角)をクリック<p>\n",
    "        6. 計算結果を折畳み、また開く. \n",
    "            + 方法: 計算したセルをクリックして選択. \n",
    "            + 出現する２つの青線の下の方（出力部分の左）をクリックして折りたたむ\n",
    "            + もう一度クリックして開く.\n"
   ]
  },
  {
   "attachments": {},
   "cell_type": "markdown",
   "metadata": {},
   "source": [
    "## 1.3 計算のコントロール\n",
    "  + 計算の中断はノート操作メニューの　■ \n",
    "  + カーネル（背景の python 処理系）の再起動はノート操作メニューの右丸矢印　⟳"
   ]
  },
  {
   "cell_type": "markdown",
   "metadata": {},
   "source": [
    "<font color=\"red\">練習1.3</font> \n",
    "1. 次のセルを実行し途中で中断せよ. そのあと、N=100000 に直して再度実行."
   ]
  },
  {
   "cell_type": "code",
   "execution_count": null,
   "metadata": {},
   "outputs": [],
   "source": [
    "N=1000000000000\n",
    "for i in range(N):\n",
    "    if i%10000==0:\n",
    "        print(\".\",end=\"\")\n",
    "    if i%800000==0 and i>0:\n",
    "        print()"
   ]
  },
  {
   "attachments": {},
   "cell_type": "markdown",
   "metadata": {},
   "source": [
    "<font color=\"red\">練習1.4</font>\n",
    "1. ノートを強制終了し再起動\n",
    "2. このセルまで実行.\n",
    "    + 順に`シフト+改行`で実行\n",
    "    + または、トップメニュー`Run`　の`Run All Above Selected Cell`で自動実行"
   ]
  },
  {
   "attachments": {},
   "cell_type": "markdown",
   "metadata": {
    "jp-MarkdownHeadingCollapsed": true,
    "tags": []
   },
   "source": [
    "<hr style=\"border-top: 3px double #8c8b8b;\"/>\n",
    "\n",
    "# 2. python 復習"
   ]
  },
  {
   "cell_type": "markdown",
   "metadata": {},
   "source": [
    "+ 忘れている人は、簡易レファレンス <a href=\"https://ritsumei365-my.sharepoint.com/:b:/g/personal/tjst_se_ritsumei_ac_jp/Ed-W9z7-R55HowFeE3x1zgwBFvjV1evOjmg2DMYzNtgUNw?e=LAHuWM\"> python_ABC </a> を参照."
   ]
  },
  {
   "cell_type": "markdown",
   "metadata": {},
   "source": [
    "## 2.1 基本事項\n",
    "   + インデントでブロック化する\n",
    "   + 例. 次で、3,4行目は同じ数だけ字下げしないとエラーが生じる.\n"
   ]
  },
  {
   "cell_type": "code",
   "execution_count": null,
   "metadata": {},
   "outputs": [],
   "source": [
    "x,y=1,2\n",
    "if x < y:\n",
    "    print(\"x < y\")\n",
    "    print(f\"x={x},y={y}\")"
   ]
  },
  {
   "cell_type": "markdown",
   "metadata": {},
   "source": [
    "<font color=\"red\">練習2.1</font>\n",
    "1. 上のセル４行目の`print`の前に空白を１字入れて実行せよ。\n",
    "2. 修正してから再度実行せよ."
   ]
  },
  {
   "cell_type": "markdown",
   "metadata": {},
   "source": [
    "## 2.2 四則演算. \n",
    "   + 乗算は`*`、ベキは`**`, 整数商は `//`,  剰余は `%`\n",
    "   + 例 `2 * 3` ⇒ 6,  `2 ** 3` ⇒  8, `10//3` ⇒ 3, `10%3` ⇒ 1\n",
    "     + 次を実行せよ."
   ]
  },
  {
   "cell_type": "code",
   "execution_count": null,
   "metadata": {},
   "outputs": [],
   "source": [
    "2*3, 2**3, 10//3, 10%3"
   ]
  },
  {
   "cell_type": "markdown",
   "metadata": {},
   "source": [
    "<font color=\"red\">練習2.2</font>\n",
    "+ 次にセルを作成し、 15773 の7倍、2 の 1000 乗, 123456 を 654 で割った商と余りを計算せよ. "
   ]
  },
  {
   "attachments": {},
   "cell_type": "markdown",
   "metadata": {},
   "source": [
    "## 2.3 変数への代入\n",
    "+ 変数代入は等号を使う: `x = 1`\n",
    "    + 通常の等号は`==`: 例えば `2==3` の値は `False`\n",
    "+ 複数の代入が可能\n",
    "  + 例えば `x,y=y,x` により、変数 `x,y`の値を入れ替えることができる.\n"
   ]
  },
  {
   "cell_type": "markdown",
   "metadata": {},
   "source": [
    "<font color=\"red\">練習2.3.</font> このセルの下に新しいセルを作成し、以下を実行せよ. (以下、この指示は省略する.)\n",
    "1. 変数`x,y,z`に`1,2,3`を代入\n",
    "2. `x,y`の値を入れ替え、`y,z`の値を入れ替え、最後に`x,y,z`を印刷せよ."
   ]
  },
  {
   "attachments": {},
   "cell_type": "markdown",
   "metadata": {},
   "source": [
    "## 2.4 関数の使い方\n",
    "+ 引数には名前のついたものがある。\n",
    "+ 例えば次で定義される関数 `L(x,a,b)` は $ax+b$ を計算するが、第２引数名が`a`で、第３引数名が`b`であり\n",
    " デフォルト値が`a=1`,`b=1`である."
   ]
  },
  {
   "cell_type": "code",
   "execution_count": null,
   "metadata": {},
   "outputs": [],
   "source": [
    "def L(x, a=1,b=1):\n",
    "    return a * x + b"
   ]
  },
  {
   "cell_type": "markdown",
   "metadata": {},
   "source": [
    "+ この時、`L(5,3,4)` は`L(5,a=3,b=4)`や `L(5,b=4,a=3)` と書くことができ、名付引数の順番は変えられる。"
   ]
  },
  {
   "cell_type": "code",
   "execution_count": null,
   "metadata": {},
   "outputs": [],
   "source": [
    "L(5,3,4),L(5,a=3,b=4),L(5,b=4,a=3)"
   ]
  },
  {
   "cell_type": "markdown",
   "metadata": {},
   "source": [
    "  + ただし、名のない引数の前に来ることはできない. 例えば、次はエラーになる."
   ]
  },
  {
   "cell_type": "code",
   "execution_count": null,
   "metadata": {},
   "outputs": [],
   "source": [
    "L(a=3,5,b=2)"
   ]
  },
  {
   "attachments": {},
   "cell_type": "markdown",
   "metadata": {},
   "source": [
    "+ <font color=\"red\" size=2>上を実行してエラーが出ることを確認したら、コメントアウトしておいてください。</font>\n",
    "  + `⌘/` でコメントのon/off を切り替えられます."
   ]
  },
  {
   "cell_type": "markdown",
   "metadata": {},
   "source": [
    "+ 名付引数がデフォルト値の時は省略できる。\n",
    "  + 例えば `L(5,a=1,b=3)` は `L(5,b=3)`. `L(5,a=1,b=1)` は `L(5)`と書くことができる.\n"
   ]
  },
  {
   "cell_type": "code",
   "execution_count": null,
   "metadata": {},
   "outputs": [],
   "source": [
    "L(5,a=1,b=3),L(5,b=3)"
   ]
  },
  {
   "cell_type": "code",
   "execution_count": null,
   "metadata": {},
   "outputs": [],
   "source": [
    "L(5,a=1,b=1),L(5)"
   ]
  },
  {
   "cell_type": "markdown",
   "metadata": {},
   "source": [
    "<font color=\"red\">練習2.4</font>\n",
    "+ `234 * 441 + 223`, `441 + 3`, `234 * 441  + 1` を`L` を使って計算せよ."
   ]
  },
  {
   "cell_type": "markdown",
   "metadata": {},
   "source": [
    "## 2.5 ラムダ式\n",
    "+ 数式から関数を作ることができる. 例えば、$x^2+y$という式があれば、\n",
    "  + 関数 $x\\mapsto x^2+y$ ($y$はパラメータ)\n",
    "  + 関数 $y\\mapsto x^2+y$ ($x$ はパラメータ)\n",
    "  + 関数 $(x,y)\\mapsto x^2+y$\n",
    "+ これらの関数を表すのがラムダ式である. 上はそれぞれ次のように表す\n",
    "  + `lambda x: x**2 + y`\n",
    "  + `lambda y: x**2 + y`\n",
    "  + `lambda x,y: x**2 + y`\n",
    "+ これらは関数として、普通に値を計算することができる。例えば `500 **2 + 200` は次で計算できる\n"
   ]
  },
  {
   "cell_type": "code",
   "execution_count": null,
   "metadata": {},
   "outputs": [],
   "source": [
    "(lambda x,y: x**2 + y)(500,200)"
   ]
  },
  {
   "cell_type": "markdown",
   "metadata": {},
   "source": [
    "<font color=\"red\">練習2.5</font>\n",
    "+ 関数 $(x,y,z) \\mapsto x^3+y^3+z^3 - xyz$ をラムダ式で表わし、$x=1,y=2,z=3$の時の値を求めよ."
   ]
  },
  {
   "cell_type": "markdown",
   "metadata": {},
   "source": [
    "## 2.6 ライブラリの読み込み\n",
    "5. ライブラリの読み込みの時、省略名をつける \n",
    "   \n",
    "   + 例. `import numpy as np` ライブラリ numpy を np という名前で読み込むと、\n",
    "      `numpy` 内の関数`sin`を使うとき `np.sin`と書ける.\n",
    "     + なお `from numpy import sin` とすれば `sin`だけで良い.\n",
    "     + `from numpy import *`（非推奨）とすると、`numpy`の全ての関数を接頭語`np.`なしに使えるが、関数が上書きされるリスクがある。小さいライブラリ以外では使わない。\n"
   ]
  },
  {
   "attachments": {},
   "cell_type": "markdown",
   "metadata": {},
   "source": [
    "<font color=\"red\">練習2.6</font>\n",
    "+ ライブラリ `numpy` を `np`という名前で読み込み、関数 `sin`を使って、$\\sin(1)$を求めよ. "
   ]
  },
  {
   "attachments": {},
   "cell_type": "markdown",
   "metadata": {},
   "source": [
    "## 2.7 リストの基本的な処理の復習\n",
    "1. 与え方 `[1,3,5,6,9,10]`, \n",
    "    + 6未満の数のリスト `[0,1,2,3,4,5]`は`list(range(6))`\n",
    "+ <font color=\"red\">練習2.7.1.</font>    変数x に 0 から　11 までのリストを代入せよ."
   ]
  },
  {
   "cell_type": "markdown",
   "metadata": {},
   "source": [
    "2. 第`i`番目の成分は `x[i-1]`, 最後からi番目の成分 `x[-i]` \n",
    "+ 例. `x[3]` は`2`, `x[-1]` は`11`となる.\n",
    "+ <font color=\"red\">練習2.7.2</font>\n",
    "  + `x` の5番目の要素と 最後から2番目の要素を求めよ.\n"
   ]
  },
  {
   "cell_type": "markdown",
   "metadata": {},
   "source": [
    "3. 要素数 `len(x)`\n",
    "+ <font color=\"red\">練習2.7.3</font> \n",
    "  + リスト`x`の要素数を求めよ.\n"
   ]
  },
  {
   "cell_type": "markdown",
   "metadata": {},
   "source": [
    "4. 部分リスト `x[i : j]`は `[x[i],..,x[j-1]]`. \n",
    "   + `x[:j]` は `x[0:j]`の省略形,  `x[i:]`は `x[i:len(x)]`の省略形.\n",
    "   + `x[-i:-j]`は、`[x[-i],..,x[-j-1]`\n",
    "+ 例. `x[2:5]` ➡︎ `[2,3,4]`, `x[:3]` ➡︎ `[0,1,2]`, `x[10:]` ➡︎ `[10,11]`\n",
    "  + `x[-2:]` ➡︎ `[10,11]`, `x[:-1]` ➡︎ `x[-1]`を省いたリスト\n",
    "+ <font color=\"red\">練習2.7.4</font>   \n",
    "    + リスト`x`から部分リスト `[4,5,6,7,8]` , `[0,1,2,3]`, `[9,10,11]` を取り出せ."
   ]
  },
  {
   "cell_type": "markdown",
   "metadata": {},
   "source": [
    "5. 要素に関数f を適用する. `[ f(u) for u in x]`\n",
    "+ <font color=\"red\">練習2.7.5</font>   \n",
    "    + x の要素を全て 2 倍して得られるリストを求めよ."
   ]
  },
  {
   "cell_type": "markdown",
   "metadata": {},
   "source": [
    "6. 条件Pを満たす部分リスト `[ u for u in x if P(u)]`\n",
    "+ 例. `x`の中の奇数の部分リストは `[u for u in x if u%2 == 1]`\n",
    "    + 数`a`が奇数かどうかは、`a`を２で割ったあまり `a%2`が`1`かどうかで判定できる.\n",
    "+ <font color=\"red\">練習2.7.6</font>\n",
    "    + `x`の中の、3の倍数がなす部分リストを求めよ."
   ]
  },
  {
   "attachments": {},
   "cell_type": "markdown",
   "metadata": {
    "jp-MarkdownHeadingCollapsed": true
   },
   "source": [
    "<hr style=\"border-top: 3px double #8c8b8b;\"/>\n",
    "\n",
    "# 3. データのnumpy による表現\n"
   ]
  },
  {
   "cell_type": "markdown",
   "metadata": {},
   "source": [
    "２次元データは、長さが２のリストで表せるので、４個の２次元データ４個からなるデータ集合は、長さ２のリストを成分とする長さ４のリストで表現できる。例えば、`[1,2],[2,3],[0,-1],[1,1]`からなるデータ集合は次のように表せる。"
   ]
  },
  {
   "cell_type": "code",
   "execution_count": null,
   "metadata": {},
   "outputs": [],
   "source": [
    "A = [[1,2],[2,3],[0,-1],[1,1]]\n",
    "A"
   ]
  },
  {
   "cell_type": "markdown",
   "metadata": {},
   "source": [
    "しかし、二重リストに対する独自の関数はないので、操作はやや面倒になる。 \n",
    "例えば行数は `len(A)` 、列数は `len(A[0])`と書かなければならない。"
   ]
  },
  {
   "cell_type": "code",
   "execution_count": null,
   "metadata": {},
   "outputs": [],
   "source": [
    "print(f\"行数 =　{len(A)}\\n列数　= {len(A[0])}\")"
   ]
  },
  {
   "cell_type": "markdown",
   "metadata": {},
   "source": [
    "\n",
    "\n",
    "そこで、これを `numpy` の `ndarray` というクラスのオブジェクトとして扱うことにする。"
   ]
  },
  {
   "cell_type": "markdown",
   "metadata": {},
   "source": [
    "## 3.1 ライブラリ numpy のクラス ndarray"
   ]
  },
  {
   "cell_type": "markdown",
   "metadata": {},
   "source": [
    "### 概要\n"
   ]
  },
  {
   "cell_type": "markdown",
   "metadata": {},
   "source": [
    "1. 定義するには 　`numpy.array`( python リスト)　のようにする。\n",
    "   + python リストは、二重リストでも良い。ただし成分リストは同じ長さであることが必要。\n",
    "  \n",
    "2. 要素の取り出し方はリストの書き方に加え `x[i][j]` を `x[i,j]` とかける.\n",
    "\n",
    "\n",
    "3. `x.shape=(3,2,5)` の場合、\n",
    "   + `x` は３成分をもち、その各成分は２成分をもち、その各成分は５次元ベクトル\n",
    "   + 要素は `x[i,j,k]` (`i=0,1,2, j=0,1, k=0,1,2,3,4`)で個数は $3\\times2\\times 5=30$\n",
    "\n",
    "\n",
    "4. shape `(a,b)`の時、行列とみると、 \n",
    "   + `i`行は `x[i]`, \n",
    "   + `j`列は `x[ : , j]`   ただし `i, j` は`0`からカウントする\n",
    "\n",
    "\n",
    "5. 転置行列は `x.T` と書く. これは`(b,a)`行列となり、`x`の`j`列は `x.T[j]` とも書ける.\n",
    "   "
   ]
  },
  {
   "cell_type": "markdown",
   "metadata": {},
   "source": [
    "### 例"
   ]
  },
  {
   "cell_type": "markdown",
   "metadata": {},
   "source": [
    "(1) まず、リストのリストを`B`とおく. "
   ]
  },
  {
   "cell_type": "code",
   "execution_count": null,
   "metadata": {},
   "outputs": [],
   "source": [
    "B= [list(range(j*10,j*10+5)) for j in range(4)]\n",
    "B"
   ]
  },
  {
   "cell_type": "markdown",
   "metadata": {},
   "source": [
    "(2) これを、ndarray に変換する."
   ]
  },
  {
   "cell_type": "code",
   "execution_count": null,
   "metadata": {},
   "outputs": [],
   "source": [
    "import numpy as np\n",
    "B = np.array(B)\n",
    "B"
   ]
  },
  {
   "cell_type": "markdown",
   "metadata": {},
   "source": [
    "(3) 行数と列数は shape ですぐわかる"
   ]
  },
  {
   "cell_type": "code",
   "execution_count": null,
   "metadata": {},
   "outputs": [],
   "source": [
    "B.shape"
   ]
  },
  {
   "cell_type": "markdown",
   "metadata": {},
   "source": [
    "(4) 1,2成分は、リストでは　`B[1][2]`だが、ndarray では `B[1,2]`と表せる"
   ]
  },
  {
   "cell_type": "code",
   "execution_count": null,
   "metadata": {},
   "outputs": [],
   "source": [
    "print(f\"B[1][2] = {B[1][2]}\\nB[1,2]={B[1,2]}\")"
   ]
  },
  {
   "cell_type": "markdown",
   "metadata": {},
   "source": [
    "(5) 第２行は `B[2]`, 第3列は `B[:,3]` \n",
    "ただし、第２行とは、上から３番目の行のこと.\n",
    "<br>　　　　(説明. `B[:,3]` は `B[0:4,3]`の略. )"
   ]
  },
  {
   "cell_type": "code",
   "execution_count": null,
   "metadata": {},
   "outputs": [],
   "source": [
    "print(f\"B[2] = {B[2]}\")\n",
    "print(f\"B[:,3] = {B[:,3]}\")"
   ]
  },
  {
   "cell_type": "markdown",
   "metadata": {},
   "source": [
    "## <font color=\"red\">練習3</font>\n",
    "+ (1) (i,j)成分が i+j の (3,5) array を y とする\n",
    "+ (2) y の第２行を取り出す\n",
    "+ (3) y の第３列を取り出す\n",
    "+ (4) y を転置する. "
   ]
  },
  {
   "attachments": {},
   "cell_type": "markdown",
   "metadata": {
    "jp-MarkdownHeadingCollapsed": true
   },
   "source": [
    "<hr style=\"border-top: 3px double #8c8b8b;\"/>\n",
    "\n",
    "# 4. データ可視化"
   ]
  },
  {
   "cell_type": "markdown",
   "metadata": {},
   "source": [
    "## 4.1 講義用ライブラリの読み込み"
   ]
  },
  {
   "cell_type": "markdown",
   "metadata": {},
   "source": [
    "実習で使う関数はファイル `ds2_lib.py` にまとめてある.\n",
    "次を実行すると、この中の関数を`f` を `ds.f` として使うことができる."
   ]
  },
  {
   "cell_type": "code",
   "execution_count": null,
   "metadata": {},
   "outputs": [],
   "source": [
    "import ds2_lib as ds "
   ]
  },
  {
   "cell_type": "markdown",
   "metadata": {},
   "source": [
    "関数名の入力は、補完機能を利用する習慣をつけてください。\n",
    "+ jupyterlab のコードセルで、関数名先頭の数文字を入力しTABキーを押すと、その文字列から始まる関数名の一覧が表示される。上下矢印キーで関数名選んで改行すると、補完される。"
   ]
  },
  {
   "cell_type": "markdown",
   "metadata": {},
   "source": [
    "<font color=\"red\">練習4.1</font>\n",
    "1. 下にセルを作り、`ds.`と入力しTabキーを押す.\n",
    "2. 関数一覧から`表示１次元データ`を選ぶ.\n",
    "2. 表示1次元データの後に`?`を入力しセルを実行 \n",
    "   + これが機能しないときは、`help(表示1次元データ)` を実行"
   ]
  },
  {
   "cell_type": "code",
   "execution_count": null,
   "metadata": {},
   "outputs": [],
   "source": []
  },
  {
   "cell_type": "markdown",
   "metadata": {},
   "source": [
    "### 4.1.1 今回使う関数の一覧"
   ]
  },
  {
   "cell_type": "markdown",
   "metadata": {},
   "source": [
    "#### 表示n次元データ(n =  １,２ または 3)\n",
    "numpy array (N,n,)型のデータを$\\mathbb R^n$にプロットする"
   ]
  },
  {
   "cell_type": "markdown",
   "metadata": {},
   "source": [
    "+ `表示１次元データ` \n",
    "+ `表示２次元データ`\n",
    "+ `表示２次元データヒストグラム`\n",
    "+ `表示２次元データ密度関数`\n",
    "+ `表示３次元データ`\n",
    "+ `表示多次元データ２次元射影`"
   ]
  },
  {
   "cell_type": "markdown",
   "metadata": {},
   "source": [
    "#### 生成n次元データ\n",
    "(N,n)型の darray を生成する"
   ]
  },
  {
   "attachments": {},
   "cell_type": "markdown",
   "metadata": {},
   "source": [
    "+ `生成１次元データ`\n",
    "+ `生成２次元データ`"
   ]
  },
  {
   "cell_type": "markdown",
   "metadata": {},
   "source": [
    "### その他"
   ]
  },
  {
   "cell_type": "markdown",
   "metadata": {},
   "source": [
    "+ `readcsv`: net 上の csv ファイルを ndarray として読み込む"
   ]
  },
  {
   "cell_type": "markdown",
   "metadata": {},
   "source": [
    "## 4.2 １次元データ集合の表示"
   ]
  },
  {
   "cell_type": "markdown",
   "metadata": {},
   "source": [
    "+ 次は、平均が0,分散が1の実数データを100個ランダムに生成. 毎回結果が違う."
   ]
  },
  {
   "cell_type": "code",
   "execution_count": null,
   "metadata": {},
   "outputs": [],
   "source": [
    "# データの個数\n",
    "N=100 \n",
    "# 平均が0, 分散が1の正規分布に従う、ランダムなN個の実数からなる ndarray. \n",
    "D11=ds.生成1次元データ(平均=0,分散=1,個数=N)\n",
    "print(D11)"
   ]
  },
  {
   "cell_type": "markdown",
   "metadata": {},
   "source": [
    "+ 復習\n",
    "  + 100個の数字が表示されている上のセルを選び、左の青い縦線をクリックすると折り畳まれる. "
   ]
  },
  {
   "cell_type": "markdown",
   "metadata": {},
   "source": [
    "+ jupyterlab の復習\n",
    "  +  セルを実行すると、セルの最後の行の変数の値が表示される。\n",
    "  +  従って変数代入の次の行にその変数を書くことで、print を用いずに、代入の結果を確認できる。上は次のように書いても良い。\n",
    "    ~~~\n",
    "        D11=ds.生成1次元データ(平均=0,分散=1,個数=N)\n",
    "        D11 \n",
    "    ~~~  \n",
    "  +  <font color=\"red\">練習</font>. 次にセルを開き、`D11`を入力してセルを実行せよ。"
   ]
  },
  {
   "attachments": {},
   "cell_type": "markdown",
   "metadata": {},
   "source": [
    "### 4.2.1 単純プロット"
   ]
  },
  {
   "cell_type": "markdown",
   "metadata": {},
   "source": [
    "関数 `ds.表示１次元データ`を使う。次を実行し関数の使い方を確認しよう。"
   ]
  },
  {
   "cell_type": "code",
   "execution_count": null,
   "metadata": {},
   "outputs": [],
   "source": [
    "help(ds.表示１次元データ)"
   ]
  },
  {
   "cell_type": "markdown",
   "metadata": {},
   "source": [
    "最初の引数はデータ集合のリストである。１つのデータ集合`D11`だけ表示するには、これを成分とするリスト `[D11]` を引数にする必要がある."
   ]
  },
  {
   "cell_type": "code",
   "execution_count": null,
   "metadata": {},
   "outputs": [],
   "source": [
    "ds.表示1次元データ([D11])"
   ]
  },
  {
   "cell_type": "markdown",
   "metadata": {},
   "source": [
    "+ 次に、平均が0.5,分散が0.3の実数データを100個ランダムに生成し `D12`とする.\n",
    "  +  `D12[:10]`とすることで、最初の10個の成分だけ表示して確認することにする。"
   ]
  },
  {
   "cell_type": "code",
   "execution_count": null,
   "metadata": {},
   "outputs": [],
   "source": [
    "D12 = ds.生成1次元データ(平均=0.5,分散=0.3,個数=N)\n",
    "D12[:10]"
   ]
  },
  {
   "cell_type": "markdown",
   "metadata": {},
   "source": [
    "+ 両方を同時に表示するには、引数を`[D11,D12]`とする."
   ]
  },
  {
   "cell_type": "code",
   "execution_count": null,
   "metadata": {},
   "outputs": [],
   "source": [
    "ds.表示1次元データ([D11,D12],枠=[800,300])"
   ]
  },
  {
   "cell_type": "markdown",
   "metadata": {},
   "source": [
    "+ データ`D11` は青、データ`D12`は橙色で表示されている。\n",
    "+ 右に、色の説明がある:\n",
    "  + 0番目のデータ `D11`が青色\n",
    "  + 1番目のデータ `D12`が橙色\n",
    "  "
   ]
  },
  {
   "attachments": {},
   "cell_type": "markdown",
   "metadata": {},
   "source": [
    "<font color=\"red\">4.2.1</font> 平均が -1.0 分散が 0.1 の、個数N個のデータ集合 `D13`を定義し`D11,D12`と共に表示せよ"
   ]
  },
  {
   "cell_type": "code",
   "execution_count": null,
   "metadata": {},
   "outputs": [],
   "source": [
    "D13=ds.生成1次元データ(-1.0,0.1,N)"
   ]
  },
  {
   "cell_type": "code",
   "execution_count": null,
   "metadata": {},
   "outputs": [],
   "source": [
    "ds.表示1次元データ([D11,D12,D13],枠=[800,300])"
   ]
  },
  {
   "cell_type": "markdown",
   "metadata": {},
   "source": [
    "### 4.2.2 ヒストグラム"
   ]
  },
  {
   "cell_type": "code",
   "execution_count": null,
   "metadata": {},
   "outputs": [],
   "source": [
    "ds.表示1次元データ([D11],ヒストグラム=True,毛=False,ビンサイズ=0.1)"
   ]
  },
  {
   "cell_type": "markdown",
   "metadata": {},
   "source": [
    "+ 複数のデータのヒストグラム"
   ]
  },
  {
   "cell_type": "code",
   "execution_count": null,
   "metadata": {},
   "outputs": [],
   "source": [
    "ds.表示1次元データ([D11,D12],ヒストグラム=True,毛=False,ビンサイズ=0.1)"
   ]
  },
  {
   "attachments": {},
   "cell_type": "markdown",
   "metadata": {},
   "source": [
    "<font color=\"red\">練習4.2.2</font> 上のセルを下にコピーし、`D13`を加えて\n",
    "実行し、その後ビンサイズを\n",
    "0.2,0.4,0.6,1.0 と変更しながら、そのつど実行せよ.\n",
    "+ 方法. \n",
    "  1. 上のセルを選ぶ\n",
    "  2. コピーする(キーc を押す). \n",
    "  3. このセルを選ぶ.\n",
    "  4. ペーストする(キーc を押す.)"
   ]
  },
  {
   "cell_type": "markdown",
   "metadata": {},
   "source": [
    "### 4.2.3 密度関数表示\n",
    "\n"
   ]
  },
  {
   "cell_type": "code",
   "execution_count": null,
   "metadata": {},
   "outputs": [],
   "source": [
    "ds.表示1次元データ([D11],毛=False,密度=True)"
   ]
  },
  {
   "cell_type": "code",
   "execution_count": null,
   "metadata": {},
   "outputs": [],
   "source": [
    "ds.表示１次元データ([D11,D12],毛=False,密度=True)"
   ]
  },
  {
   "attachments": {},
   "cell_type": "markdown",
   "metadata": {},
   "source": [
    "<font color=\"red\">練習4.2.3</font> 上のセルを下にコピーし、`D13`を加えて\n",
    "実行"
   ]
  },
  {
   "cell_type": "markdown",
   "metadata": {},
   "source": [
    "### 4.2.4 ３種同時表示\n",
    "\n",
    "+ 三種類の表示を全て行う。冗長だがわかりやすい。"
   ]
  },
  {
   "cell_type": "code",
   "execution_count": null,
   "metadata": {},
   "outputs": [],
   "source": [
    "ds.表示１次元データ([D11,D12],毛=True,密度=True,ヒストグラム=True,ビンサイズ=0.2)"
   ]
  },
  {
   "attachments": {},
   "cell_type": "markdown",
   "metadata": {},
   "source": [
    "<font color=\"red\">練習4.2.4</font> 上のセルを下にコピーし、`D13`を加えて\n",
    "実行"
   ]
  },
  {
   "cell_type": "markdown",
   "metadata": {},
   "source": [
    "## 4.3. 2 次元データ集合"
   ]
  },
  {
   "attachments": {},
   "cell_type": "markdown",
   "metadata": {},
   "source": [
    "次は、平面の点で表されるデータの集合を考えよう。これは、平面の有限部分集合なので、視覚が得意とする対象である. "
   ]
  },
  {
   "cell_type": "markdown",
   "metadata": {},
   "source": [
    "### 4.3.1 データ集合 D2 の定義"
   ]
  },
  {
   "cell_type": "markdown",
   "metadata": {},
   "source": [
    "まず、データ集合`D2`を定義する。今度は40000個のデータからなるものを考える."
   ]
  },
  {
   "cell_type": "code",
   "execution_count": null,
   "metadata": {},
   "outputs": [],
   "source": [
    "help(ds.生成２次元データ)"
   ]
  },
  {
   "cell_type": "code",
   "execution_count": null,
   "metadata": {},
   "outputs": [],
   "source": [
    "D2 = ds.生成２次元データ([[1,1],[1,-1],[-1,-1],[-1,1]],個数=10000)\n",
    "D2.shape"
   ]
  },
  {
   "cell_type": "markdown",
   "metadata": {},
   "source": [
    "最初の10個を表示すると"
   ]
  },
  {
   "cell_type": "code",
   "execution_count": null,
   "metadata": {},
   "outputs": [],
   "source": [
    "D2[:10]"
   ]
  },
  {
   "cell_type": "markdown",
   "metadata": {},
   "source": [
    "### 4.3.2 単純プロット"
   ]
  },
  {
   "cell_type": "code",
   "execution_count": null,
   "metadata": {},
   "outputs": [],
   "source": [
    "ds.表示2次元データ(D2)"
   ]
  },
  {
   "cell_type": "markdown",
   "metadata": {},
   "source": [
    "+ <font color=\"red\">練習4.3.2</font> 次の部分リストをプロットせよ.\n",
    "  + 10000 から 29999 番目の 20000 個のデータ \n",
    "    + ヒント `D2[10000:30000]`\n",
    "  + 番号が10の倍数のデータ \n",
    "    + ヒント `D2[[i for i in range(40000) if i%10==0]]`"
   ]
  },
  {
   "attachments": {},
   "cell_type": "markdown",
   "metadata": {},
   "source": [
    "#### 参考. plotlyの最も単純な使い方\n",
    "用意した表示関数はライブラリplotlyに基づいている。このライブラリにより描写される図は、マウスでズームイン・ズームアウト・（３次元の場合は）回転など操作できて感覚的に把握できることが増えるので便利である。しかし多様なことができるためオプションが膨大かつ複雑であり、直接に使うと分かりにくいので、いくつかの基本的な使い方を関数にして使いやすくしている. \n",
    "\n",
    "参考に、どのようなコマンドで、平面の点を描けるかを紹介しておこう。点のリストのx座標のリストを `xlist`,y座標のリストを`ylist`とすると\n",
    "+ `px.scatter(x=xlist,y=ylist)`で、それらの点を表示できる."
   ]
  },
  {
   "cell_type": "code",
   "execution_count": null,
   "metadata": {},
   "outputs": [],
   "source": [
    "import plotly.express as px\n",
    "xlist=[0,1,1,0]\n",
    "ylist=[0,0,1,1]\n",
    "px.scatter(x = xlist, y = ylist )"
   ]
  },
  {
   "cell_type": "markdown",
   "metadata": {},
   "source": [
    "\n",
    "  + `px.line(x=xlist,y=ylist)` で、それらの点を順に結ぶ線分を表示できる."
   ]
  },
  {
   "cell_type": "code",
   "execution_count": null,
   "metadata": {},
   "outputs": [],
   "source": [
    "px.line(x = xlist , y = ylist )"
   ]
  },
  {
   "cell_type": "markdown",
   "metadata": {},
   "source": [
    "### 4.3.3 濃淡で密度を表示\n",
    "+ 透明度を下げることで、重なったところは濃くなり、密度の多少が見える."
   ]
  },
  {
   "cell_type": "code",
   "execution_count": null,
   "metadata": {},
   "outputs": [],
   "source": [
    "ds.表示２次元データ(D2,透明度=0.1)"
   ]
  },
  {
   "cell_type": "markdown",
   "metadata": {},
   "source": [
    "+ <font color=\"red\">練習4.3.3</font> 透明度を 0.05 にしてみよ."
   ]
  },
  {
   "cell_type": "markdown",
   "metadata": {},
   "source": [
    "### 4.3.4 二次元匕ストグラム"
   ]
  },
  {
   "cell_type": "markdown",
   "metadata": {},
   "source": [
    "  $\\mathbb{R}^2$を碁盤の目にわけて、目に入るデータ数を図示"
   ]
  },
  {
   "cell_type": "code",
   "execution_count": null,
   "metadata": {},
   "outputs": [],
   "source": [
    "help(ds.表示２次元データヒストグラム)"
   ]
  },
  {
   "cell_type": "code",
   "execution_count": null,
   "metadata": {},
   "outputs": [],
   "source": [
    "ds.表示２次元データヒストグラム(D2,xビン数=20,yビン数=20)"
   ]
  },
  {
   "cell_type": "markdown",
   "metadata": {},
   "source": [
    "+ 次は各成分のヒストグラム(周辺分布という)も表示"
   ]
  },
  {
   "cell_type": "code",
   "execution_count": null,
   "metadata": {},
   "outputs": [],
   "source": [
    "ds.表示２次元データヒストグラム(D2,xビン数=20,yビン数=20,周辺分布=True)"
   ]
  },
  {
   "cell_type": "markdown",
   "metadata": {},
   "source": [
    "+ <font color=\"red\">練習4.3.4</font> 分割数 (xビン数,yビン数) を30に増やしてみよ."
   ]
  },
  {
   "cell_type": "markdown",
   "metadata": {},
   "source": [
    "### 4.3.5 密度関数の表示"
   ]
  },
  {
   "cell_type": "markdown",
   "metadata": {},
   "source": [
    "各点から距離$\\varepsilon$以下のデータ数. これをグラフ表示。等高線表示する。"
   ]
  },
  {
   "cell_type": "markdown",
   "metadata": {},
   "source": [
    "まず、関数の使い方を確認する。"
   ]
  },
  {
   "cell_type": "code",
   "execution_count": null,
   "metadata": {},
   "outputs": [],
   "source": [
    "help(ds.表示２次元データ密度等高線)"
   ]
  },
  {
   "cell_type": "markdown",
   "metadata": {},
   "source": [
    "最も単純に表示"
   ]
  },
  {
   "cell_type": "code",
   "execution_count": null,
   "metadata": {},
   "outputs": [],
   "source": [
    "ds.表示２次元データ密度等高線(D2)"
   ]
  },
  {
   "cell_type": "markdown",
   "metadata": {},
   "source": [
    "<font color=\"red\">練習4.3.5</font> 次の引数で実行\n",
    "+ `D2,ラベル=True` \n",
    "+ `D2,周辺分布=True` \n",
    "+ `D2,濃淡=True`\n",
    "+ `D2,濃淡=True,ラベル=True`"
   ]
  },
  {
   "cell_type": "markdown",
   "metadata": {},
   "source": [
    "## 4.4 ３次元データ集合"
   ]
  },
  {
   "cell_type": "markdown",
   "metadata": {},
   "source": [
    "### 4.4.1. data 集合 D31 の設定"
   ]
  },
  {
   "cell_type": "markdown",
   "metadata": {},
   "source": [
    "空間の点で表されるデータの集まりを表示する。まず net上のcsv ファイルを読み込む."
   ]
  },
  {
   "cell_type": "code",
   "execution_count": null,
   "metadata": {},
   "outputs": [],
   "source": [
    "D3=ds.readcsv(\"https://ac-net.org/tjst/lct/23/23ds2/ds201A.csv\")\n",
    "D3[:5],D3.shape"
   ]
  },
  {
   "cell_type": "markdown",
   "metadata": {},
   "source": [
    "+ このデータ集合の各データは４成分を持つ。\n",
    "    + 最初の３成分が空間座標を表し、最後の成分がクラスを表わす\n",
    "    + 例えば、`D3[0]`は、データが`[ 0.09763958, -0.10045787,  0.13088873]` 、クラスが1であることを表します。"
   ]
  },
  {
   "cell_type": "markdown",
   "metadata": {},
   "source": [
    "### 4.4.2 ３次元プロット"
   ]
  },
  {
   "cell_type": "code",
   "execution_count": null,
   "metadata": {},
   "outputs": [],
   "source": [
    "help(ds.表示３次元データ)"
   ]
  },
  {
   "cell_type": "markdown",
   "metadata": {},
   "source": [
    "まず、クラスを区別せずに表示する。"
   ]
  },
  {
   "cell_type": "code",
   "execution_count": null,
   "metadata": {},
   "outputs": [],
   "source": [
    "ds.表示３次元データ(D3,点サイズ=1,透明度=0.6,形状=\"circle\",枠=[500,500])"
   ]
  },
  {
   "cell_type": "markdown",
   "metadata": {},
   "source": [
    "+ 画像の操作\n",
    "    + マウスのボタンを押したまま動かすと、図を動かすことができる。\n",
    "    + ホイールで拡大・縮小できる.\n",
    "    + 最初の状態に戻すには、右上のアイコンの右から２つ目の家型アイコンをクリックする."
   ]
  },
  {
   "cell_type": "markdown",
   "metadata": {},
   "source": [
    "次に、クラスによって色分けして表示しよう。まず、クラス情報`D3.T[-1]`をそのまま使う."
   ]
  },
  {
   "cell_type": "code",
   "execution_count": null,
   "metadata": {},
   "outputs": [],
   "source": [
    "ds.表示３次元データ(D3,Dcolor=D3.T[3],点サイズ=1,透明度=0.6,形状=\"circle\",枠=[500,500])"
   ]
  },
  {
   "attachments": {},
   "cell_type": "markdown",
   "metadata": {},
   "source": [
    "黄色が見にくいので、赤と青で表示しよう。それには、各点の色を指定する必要がある.\n",
    "+  x=1 の時 `blue`, そうでないとき `red`とする関数\n",
    "   ~~~~\n",
    "   lambda x:\"red\" if x==1 else \"blue\"\n",
    "   ~~~~\n",
    "   を、クラスデータのリスト `D3.T[-1]`の各要素に適用したリストを`Dcolor`とすれば良い."
   ]
  },
  {
   "cell_type": "code",
   "execution_count": null,
   "metadata": {},
   "outputs": [],
   "source": [
    "Dcolor=[(lambda x:\"red\" if x==1 else \"blue\")(x) for x in D3.T[3]]\n",
    "Dcolor[:10]"
   ]
  },
  {
   "cell_type": "code",
   "execution_count": null,
   "metadata": {},
   "outputs": [],
   "source": [
    "ds.表示３次元データ(D3,Dcolor,点サイズ=1,透明度=0.6,形状=\"circle\",枠=[500,500])"
   ]
  },
  {
   "cell_type": "markdown",
   "metadata": {},
   "source": [
    "<font color=\"red\">練習4.4.2</font>\n",
    "1. マウスでいろいろな角度、大きさにしてみる。\n",
    "2. 赤と青が分離するように配置する.\n",
    "3. ２直線に見えるように回転する."
   ]
  },
  {
   "cell_type": "markdown",
   "metadata": {},
   "source": [
    "### 4.4.3 １次元射影表示"
   ]
  },
  {
   "cell_type": "markdown",
   "metadata": {},
   "source": [
    "各成分だけ取り出すと、１次元データになる。\n",
    "+ 例えば、`x`座標だけ取り出すには `D3[:,0]`とするか `D3.T[0]` とすれば良い.\n",
    "これは、`ds.表示１次元データ`で表示できる。"
   ]
  },
  {
   "cell_type": "code",
   "execution_count": null,
   "metadata": {},
   "outputs": [],
   "source": [
    "ds.表示１次元データ([D3[:,0]])"
   ]
  },
  {
   "cell_type": "markdown",
   "metadata": {},
   "source": [
    "３成分をまとめて表示してみよう. \n",
    "+ (4,1000)型の`D3.T`の最後の列を除い(3,1000)型の`D3.T[:-1]`が、第１引数.\n",
    "+ 各データの名前を `[\"x\",\"y\",\"z\"]`で与えている"
   ]
  },
  {
   "cell_type": "code",
   "execution_count": null,
   "metadata": {},
   "outputs": [],
   "source": [
    "ds.表示１次元データ(D3.T[:-1],ラベルリスト=[\"x\",\"y\",\"z\"],ビンサイズ=0.2,毛=True,ヒストグラム=True,密度=True)"
   ]
  },
  {
   "attachments": {},
   "cell_type": "markdown",
   "metadata": {},
   "source": [
    "<font color=\"red\">練習4.4.3</font> パラメータを変えて表示してみよ. \n",
    "+ 上のセルをコピーしてペーストして、変更するところ(赤字)だけ変更すれば良い. \n",
    "  + (復習) 操作は、上のセルを選び、コピー`c`の後、このセルを選びペースト`v`すれば良い.\n",
    "1. ビンサイズ=0.2,毛=True,ヒストグラム=<font color=\"red\">False</font>,密度=True\n",
    "2. ビンサイズ=<font color=\"red\">0.05</font>,毛=True,ヒストグラム=True,密度=<font color=\"red\">False</font>\n",
    "3. <font color=\"red\">D3.T[:2]</font>,ラベルリスト=<font color=\"red\">[\"x\",\"y\"]</font>,ビンサイズ=0.2,毛=True,ヒストグラム=<font color=\"red\">False</font>,密度=True)\n",
    "   "
   ]
  },
  {
   "cell_type": "markdown",
   "metadata": {},
   "source": [
    "### 4.4.5 ２次元射影表示"
   ]
  },
  {
   "cell_type": "markdown",
   "metadata": {},
   "source": [
    "次は、２成分を取り出して得られる２次元データを平面にプロットする."
   ]
  },
  {
   "cell_type": "markdown",
   "metadata": {},
   "source": [
    "#### 4.4.5.1 x,y成分のプロット"
   ]
  },
  {
   "cell_type": "markdown",
   "metadata": {},
   "source": [
    "+ (4,1000)array の`D3.T`の、0,1成分は `D3.T[:2]`. そこで、これをプロットする."
   ]
  },
  {
   "cell_type": "code",
   "execution_count": null,
   "metadata": {},
   "outputs": [],
   "source": [
    "ds.表示２次元データ(D3.T[:2].T,色リスト=D3.T[3])"
   ]
  },
  {
   "cell_type": "markdown",
   "metadata": {},
   "source": [
    "+ `x,z`成分は `D3.T[[0,2]]`\n",
    "+ `y,z`成分は `D3.T[1:3]`となる. これは `D3.T[[2,3]]` とも書ける.\n",
    "\n",
    "+ <font color=\"red\">練習4.4.5.1</font> \n",
    "\n",
    "1. `x,z`成分を表示せよ.\n",
    "2. `y,z`成分を表示せよ."
   ]
  },
  {
   "cell_type": "markdown",
   "metadata": {},
   "source": [
    "#### 4.4.5.2 二変数組すべてについてのプロット"
   ]
  },
  {
   "cell_type": "markdown",
   "metadata": {},
   "source": [
    "２変数の組みは全部で3つある。これを、$3\\times 3$の表として、まとめて表示する関数が`scatter_matrix`である。ただし\n",
    "+ 対角線の`(i,i)`成分は、第i成分の一次元プロット.\n",
    "+ また、$(i,j)$成分と$(j,i)$成分とは、対角線での鏡対象の図になる."
   ]
  },
  {
   "cell_type": "code",
   "execution_count": null,
   "metadata": {},
   "outputs": [],
   "source": [
    "ds.表示多次元データ２次元射影(D3[:,:3],色リスト=D3.T[3])"
   ]
  },
  {
   "cell_type": "markdown",
   "metadata": {},
   "source": [
    "##### ライブラリ seaborn では、分布を表示できる."
   ]
  },
  {
   "cell_type": "code",
   "execution_count": null,
   "metadata": {},
   "outputs": [],
   "source": [
    "ds.表示多次元データ２次元射影(D3[:,:3],色リスト=D3.T[3],seaborn=True)"
   ]
  },
  {
   "attachments": {},
   "cell_type": "markdown",
   "metadata": {},
   "source": [
    "<hr style=\"border-top: 3px double #8c8b8b;\"/>\n",
    "\n",
    "# 5. 課題"
   ]
  },
  {
   "attachments": {},
   "cell_type": "markdown",
   "metadata": {},
   "source": [
    "I. いずれの課題もスクリーンショットをとり、manaba `第１回レポート`に提出.\n",
    "+ スクリーンショットにはコード部分も入れる\n",
    "+ なんらかの方法で一つのファイルにまとめて、PDF形式で提出.\n",
    "  + 学籍番号、氏名と課題内容等を最初に記載する。\n",
    "  + 推奨： word が使える人は `23ds201_report.docx` を使用し最後にPDF形式で出力して提出. \n",
    "  + ファイル名に、自分の氏名を付加する。例：`23ds201_立命太郎.pdf`.    \n",
    "    + ファイル名には、括弧などの記号を加えないようにしてください. \n",
    "\n",
    "II. 実習し終わったnotebook を保存した後、ダウンロードし、名前を `23ds201_立命太郎.ipynb`と変更して提出."
   ]
  },
  {
   "attachments": {},
   "cell_type": "markdown",
   "metadata": {},
   "source": [
    "課題1. 次の図を  `ds.表示２次元データ` を使って描け。</br>\n",
    "<p>\n",
    "<img src=\"https://ac-net.org/tjst/lct/23/23ds2/img/ds201_ex1.png\" width=400></p>\n",
    "\n",
    "課題2. ３次元データ集合$ \\{(i,j,k) ; 0\\leq i,j,k\\leq 2\\,  i,j,k は整数 \\}$を ３次元プロットで可視化せよ.\n",
    "\n",
    "課題3. 次のcsvファイル\n",
    "\n",
    "+     https://ac-net.org/tjst/lct/23/23ds2/ds201B.csv\n",
    "+     https://ac-net.org/tjst/lct/23/23ds2/ds201C.csv\n",
    "\n",
    "で定義される３次元データ集合は２クラスに分かれている。それぞれについて\n",
    "+ (1) ３次元プロットし、２クラスが分離するような視点を探せ。\n",
    "+ (2) 各成分の１次元プロットを行え.\n",
    "+ (3) 関数 `ds.表示多次元データ２次元射影` を用いて２次元射影表示を行え.\n"
   ]
  },
  {
   "attachments": {},
   "cell_type": "markdown",
   "metadata": {},
   "source": [
    "<hr style=\"border-top: 3px double #8c8b8b;\"/>"
   ]
  },
  {
   "cell_type": "markdown",
   "metadata": {},
   "source": []
  }
 ],
 "metadata": {
  "kernelspec": {
   "display_name": "Python 3 (ipykernel)",
   "language": "python",
   "name": "python3"
  },
  "language_info": {
   "codemirror_mode": {
    "name": "ipython",
    "version": 3
   },
   "file_extension": ".py",
   "mimetype": "text/x-python",
   "name": "python",
   "nbconvert_exporter": "python",
   "pygments_lexer": "ipython3",
   "version": "3.10.10"
  },
  "toc-autonumbering": false,
  "vscode": {
   "interpreter": {
    "hash": "d605ff73f59bdc40c3c960d3135d659aa9c055613dbb422a34fc55fb421dc6c7"
   }
  },
  "widgets": {
   "application/vnd.jupyter.widget-state+json": {
    "state": {},
    "version_major": 2,
    "version_minor": 0
   }
  }
 },
 "nbformat": 4,
 "nbformat_minor": 4
}
