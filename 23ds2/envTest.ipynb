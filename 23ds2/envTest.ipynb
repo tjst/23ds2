{
 "cells": [
  {
   "attachments": {},
   "cell_type": "markdown",
   "metadata": {
    "id": "ouqOM1he6Yv7"
   },
   "source": [
    "<hr style=\"border-top: 3px double #8c8b8b;\"/>\n",
    "<br/>\n",
    "<center><font size=7 color=\"green\">データサイエンスII  環境テスト</font><br/>\n",
    "\n",
    "2022.4.19\n",
    "</center>\n",
    "<hr style=\"border-top: 3px double #8c8b8b;\"/>\n"
   ]
  },
  {
   "attachments": {},
   "cell_type": "markdown",
   "metadata": {},
   "source": [
    "# ライブラリのインストール "
   ]
  },
  {
   "cell_type": "code",
   "execution_count": null,
   "metadata": {},
   "outputs": [],
   "source": [
    "!conda install -c conda-forge -y numpy plotly pandas scipy seaborn tensorflow-cpu"
   ]
  },
  {
   "attachments": {},
   "cell_type": "markdown",
   "metadata": {},
   "source": [
    "# 講義ライブラリのテスト"
   ]
  },
  {
   "cell_type": "code",
   "execution_count": null,
   "metadata": {
    "tags": []
   },
   "outputs": [],
   "source": [
    "from  ds2_lib import *"
   ]
  },
  {
   "attachments": {},
   "cell_type": "markdown",
   "metadata": {
    "tags": []
   },
   "source": [
    "# plotly のテスト"
   ]
  },
  {
   "cell_type": "code",
   "execution_count": null,
   "metadata": {
    "tags": []
   },
   "outputs": [],
   "source": [
    "D3=readcsv(\"https://ac-net.org/tjst/lct/21/21ds2/dfD72A.csv\")\n",
    "Dcolor=[(lambda x:\"blue\" if x==1 else \"red\")(x) for x in D3.T[3]]\n",
    "表示３次元データ(D3,Dcolor=Dcolor,点サイズ=1,透明度=0.6,形状=\"circle\",枠=[500,500])"
   ]
  },
  {
   "cell_type": "code",
   "execution_count": null,
   "metadata": {
    "tags": []
   },
   "outputs": [],
   "source": [
    "二次元散布図(D3[:,:3],color=D3.T[3],seaborn=True)"
   ]
  },
  {
   "cell_type": "markdown",
   "metadata": {},
   "source": [
    "# tensorflow のテスト"
   ]
  },
  {
   "cell_type": "code",
   "execution_count": null,
   "metadata": {},
   "outputs": [],
   "source": [
    "def diff(f,a):\n",
    "    import tensorflow as tf\n",
    "    x = tf.Variable(a)\n",
    "    with tf.GradientTape() as tape:\n",
    "        result = f(x)\n",
    "    return tape.gradient(result,x).numpy()\n",
    "\n",
    "def minimize(f,init=[1.0,1.0], epsilon = 0.1,hantei=1.0e-10,N=100):\n",
    "    \"\"\" ver6 変更点 : f が 0 となったら終了 \"\"\"\n",
    "    import numpy as np\n",
    "    counter=0\n",
    "    x =init\n",
    "    val = f(x)\n",
    "    newx = x - epsilon * diff(f,x)\n",
    "    newval = f(newx)\n",
    "    while epsilon>1.0e-10 and counter<N:\n",
    "        print(\"{:5d}: f({:15.12f},{:15.12f}) = {:15.12f}, ε={:10e}\".format(counter,x[0],x[1],f(x),epsilon))\n",
    "        #print(f\"{counter}: f({x}) = {val}\")\n",
    "        if newval <= val:\n",
    "            if newval > val-hantei:\n",
    "                break\n",
    "            else:\n",
    "                x = newx\n",
    "                counter+=1\n",
    "                newx = x - epsilon * diff(f,x)\n",
    "                val,newval =newval, f(newx)\n",
    "        else:\n",
    "            epsilon *= 0.1\n",
    "    return newx,newval\n",
    "\n",
    "f=lambda u : u[0]**2 + u[1]**2 + u[0] * u[1] + u[0] \n",
    "# f(x,y) = x^2 + y^2 + xy + x = (y+x/2)^2 + 3/4 ( x + 2/3 )^2 - 1/3 \n",
    "#表示2変数関数(lambda x,y:f([x,y]),x区間=[-5,5],y区間=[-5,5],枠=[400,400])\n",
    "minimize(f,[1.0,1.0])"
   ]
  },
  {
   "cell_type": "code",
   "execution_count": null,
   "metadata": {},
   "outputs": [],
   "source": []
  }
 ],
 "metadata": {
  "kernelspec": {
   "display_name": "Python 3 (ipykernel)",
   "language": "python",
   "name": "python3"
  },
  "language_info": {
   "codemirror_mode": {
    "name": "ipython",
    "version": 3
   },
   "file_extension": ".py",
   "mimetype": "text/x-python",
   "name": "python",
   "nbconvert_exporter": "python",
   "pygments_lexer": "ipython3",
   "version": "3.10.10"
  },
  "toc": {
   "base_numbering": 1,
   "nav_menu": {},
   "number_sections": true,
   "sideBar": true,
   "skip_h1_title": false,
   "title_cell": "Table of Contents",
   "title_sidebar": "目次",
   "toc_cell": false,
   "toc_position": {
    "height": "153.6px",
    "left": "39px",
    "top": "139.6px",
    "width": "258px"
   },
   "toc_section_display": true,
   "toc_window_display": true
  },
  "toc-autonumbering": true,
  "toc-showcode": false,
  "toc-showmarkdowntxt": false,
  "widgets": {
   "application/vnd.jupyter.widget-state+json": {
    "state": {},
    "version_major": 2,
    "version_minor": 0
   }
  }
 },
 "nbformat": 4,
 "nbformat_minor": 4
}
